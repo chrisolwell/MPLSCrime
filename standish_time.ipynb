{
 "cells": [
  {
   "cell_type": "code",
   "execution_count": 1,
   "metadata": {},
   "outputs": [],
   "source": [
    "import pandas as pd\n",
    "import os\n",
    "import datetime\n",
    "import matplotlib.pyplot as plt\n",
    "import numpy as np\n",
    "from matplotlib import style\n",
    "from matplotlib.patches import ConnectionPatch\n",
    "import mplcyberpunk"
   ]
  },
  {
   "cell_type": "code",
   "execution_count": 2,
   "metadata": {},
   "outputs": [],
   "source": [
    "%matplotlib inline "
   ]
  },
  {
   "cell_type": "code",
   "execution_count": 11,
   "metadata": {},
   "outputs": [],
   "source": [
    "#create mplscrime dataframe\n",
    "standish_crime = os.path.join(\"Crime_Data.csv\")\n",
    "standish_df=pd.read_csv(standish_crime)"
   ]
  },
  {
   "cell_type": "code",
   "execution_count": 12,
   "metadata": {},
   "outputs": [
    {
     "data": {
      "text/plain": [
       "X                                  float64\n",
       "Y                                  float64\n",
       "Type                                object\n",
       "Case_Number                         object\n",
       "Case_NumberAlt                      object\n",
       "Reported_Date          datetime64[ns, UTC]\n",
       "Occurred_Date                       object\n",
       "NIBRS_Crime_Against                 object\n",
       "NIBRS_Group                         object\n",
       "NIBRS_Code                          object\n",
       "Offense_Category                    object\n",
       "Offense                             object\n",
       "Problem_Initial                     object\n",
       "Problem_Final                       object\n",
       "Address                             object\n",
       "Precinct                           float64\n",
       "Neighborhood                        object\n",
       "Ward                               float64\n",
       "Latitude                           float64\n",
       "Longitude                          float64\n",
       "wgsXAnon                           float64\n",
       "wgsYAnon                           float64\n",
       "Crime_Count                          int64\n",
       "OBJECTID                             int64\n",
       "dtype: object"
      ]
     },
     "execution_count": 12,
     "metadata": {},
     "output_type": "execute_result"
    }
   ],
   "source": [
    "standish_df['Reported_Date'] = pd.to_datetime(standish_df.Reported_Date)\n",
    "\n",
    "standish_df.dtypes"
   ]
  },
  {
   "cell_type": "code",
   "execution_count": 13,
   "metadata": {},
   "outputs": [
    {
     "data": {
      "text/plain": [
       "X                                  float64\n",
       "Y                                  float64\n",
       "Type                                object\n",
       "Case_Number                         object\n",
       "Case_NumberAlt                      object\n",
       "Reported_Date          datetime64[ns, UTC]\n",
       "Occurred_Date          datetime64[ns, UTC]\n",
       "NIBRS_Crime_Against                 object\n",
       "NIBRS_Group                         object\n",
       "NIBRS_Code                          object\n",
       "Offense_Category                    object\n",
       "Offense                             object\n",
       "Problem_Initial                     object\n",
       "Problem_Final                       object\n",
       "Address                             object\n",
       "Precinct                           float64\n",
       "Neighborhood                        object\n",
       "Ward                               float64\n",
       "Latitude                           float64\n",
       "Longitude                          float64\n",
       "wgsXAnon                           float64\n",
       "wgsYAnon                           float64\n",
       "Crime_Count                          int64\n",
       "OBJECTID                             int64\n",
       "dtype: object"
      ]
     },
     "execution_count": 13,
     "metadata": {},
     "output_type": "execute_result"
    }
   ],
   "source": [
    "standish_df['Occurred_Date'] = pd.to_datetime(standish_df.Occurred_Date)\n",
    "\n",
    "standish_df.dtypes"
   ]
  },
  {
   "cell_type": "code",
   "execution_count": 14,
   "metadata": {},
   "outputs": [],
   "source": [
    "# clean_df=standish_df.drop(columns=['Date_Reported' , 'Time_Reported' , 'Date_Occurred', 'Time_Occurred', 'Neighborhood'], axis=1)\n",
    "# clean_df"
   ]
  }
 ],
 "metadata": {
  "kernelspec": {
   "display_name": "Python 3.7.11 ('PythonData')",
   "language": "python",
   "name": "python3"
  },
  "language_info": {
   "codemirror_mode": {
    "name": "ipython",
    "version": 3
   },
   "file_extension": ".py",
   "mimetype": "text/x-python",
   "name": "python",
   "nbconvert_exporter": "python",
   "pygments_lexer": "ipython3",
   "version": "3.7.11"
  },
  "orig_nbformat": 4,
  "vscode": {
   "interpreter": {
    "hash": "363f1982d70943d75bd6632514b1b2743d6fc535afdb4b74e7bafad889c7b013"
   }
  }
 },
 "nbformat": 4,
 "nbformat_minor": 2
}
